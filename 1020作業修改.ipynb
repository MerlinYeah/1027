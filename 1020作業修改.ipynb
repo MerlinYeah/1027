{
  "nbformat": 4,
  "nbformat_minor": 0,
  "metadata": {
    "colab": {
      "provenance": []
    },
    "kernelspec": {
      "name": "python3",
      "display_name": "Python 3"
    },
    "language_info": {
      "name": "python"
    }
  },
  "cells": [
    {
      "cell_type": "markdown",
      "source": [],
      "metadata": {
        "id": "WICc6bfoGZEg"
      }
    },
    {
      "cell_type": "code",
      "source": [
        "import random\n",
        "\n",
        "# 生成一個隨機數字，這是要猜的數字\n",
        "target_number = random.randint(1, 100)\n",
        "print(\"歡迎參加猜數字遊戲！\")\n",
        "\n",
        "# 使用while迴圈持續提示用戶輸入猜測\n",
        "while True:\n",
        "    guess = int (input(\"請輸入你的猜測(1到100之間的整數）：\")  )\n",
        "    # 檢查猜測是否正確\n",
        "    if guess == target_number:\n",
        "        print(f\"恭喜你，你猜對了！目標數字是{target_number}。\")\n",
        "        break\n",
        "    elif guess < target_number:\n",
        "        print(\"你的猜測太低了，請再試一次。\")\n",
        "    else:\n",
        "        print(\"你的猜測太高了，請再試一次。\")\n",
        "\n",
        "print(\"遊戲結束。\")\n"
      ],
      "metadata": {
        "colab": {
          "base_uri": "https://localhost:8080/"
        },
        "id": "lX9DdT0HGxqY",
        "outputId": "29063cb8-8aa8-4a8a-c829-f52043a4070e"
      },
      "execution_count": 2,
      "outputs": [
        {
          "output_type": "stream",
          "name": "stdout",
          "text": [
            "歡迎參加猜數字遊戲！\n",
            "請輸入你的猜測(1到100之間的整數）：50\n",
            "你的猜測太低了，請再試一次。\n",
            "請輸入你的猜測(1到100之間的整數）：70\n",
            "你的猜測太高了，請再試一次。\n",
            "請輸入你的猜測(1到100之間的整數）：60\n",
            "你的猜測太低了，請再試一次。\n",
            "請輸入你的猜測(1到100之間的整數）：65\n",
            "你的猜測太高了，請再試一次。\n",
            "請輸入你的猜測(1到100之間的整數）：64\n",
            "你的猜測太高了，請再試一次。\n",
            "請輸入你的猜測(1到100之間的整數）：63\n",
            "你的猜測太高了，請再試一次。\n",
            "請輸入你的猜測(1到100之間的整數）：62\n",
            "恭喜你，你猜對了！目標數字是62。\n",
            "遊戲結束。\n"
          ]
        }
      ]
    },
    {
      "cell_type": "code",
      "source": [
        "# 取得使用者輸入的範圍\n",
        "n = int(input(\"請輸入範圍：\"))\n",
        "\n",
        "# 使用for迴圈生成乘法表格\n",
        "for i in range(1, n + 1):\n",
        "    for j in range(1, n + 1):\n",
        "        result = i * j\n",
        "        print(f\"{i} × {j} = {result}\")\n",
        "\n",
        "# 程式執行完成\n",
        "\n"
      ],
      "metadata": {
        "id": "WnBbwHvQIzbi",
        "outputId": "f0d7866c-381d-4492-c5ae-55f9d07d926f",
        "colab": {
          "base_uri": "https://localhost:8080/"
        }
      },
      "execution_count": 3,
      "outputs": [
        {
          "output_type": "stream",
          "name": "stdout",
          "text": [
            "請輸入範圍：5\n",
            "1 × 1 = 1\n",
            "1 × 2 = 2\n",
            "1 × 3 = 3\n",
            "1 × 4 = 4\n",
            "1 × 5 = 5\n",
            "2 × 1 = 2\n",
            "2 × 2 = 4\n",
            "2 × 3 = 6\n",
            "2 × 4 = 8\n",
            "2 × 5 = 10\n",
            "3 × 1 = 3\n",
            "3 × 2 = 6\n",
            "3 × 3 = 9\n",
            "3 × 4 = 12\n",
            "3 × 5 = 15\n",
            "4 × 1 = 4\n",
            "4 × 2 = 8\n",
            "4 × 3 = 12\n",
            "4 × 4 = 16\n",
            "4 × 5 = 20\n",
            "5 × 1 = 5\n",
            "5 × 2 = 10\n",
            "5 × 3 = 15\n",
            "5 × 4 = 20\n",
            "5 × 5 = 25\n"
          ]
        }
      ]
    },
    {
      "cell_type": "code",
      "source": [],
      "metadata": {
        "id": "gLZeFOLaHRbe"
      },
      "execution_count": null,
      "outputs": []
    }
  ]
}